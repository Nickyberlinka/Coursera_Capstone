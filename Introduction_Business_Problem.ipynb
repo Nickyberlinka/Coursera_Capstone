{
 "cells": [
  {
   "cell_type": "markdown",
   "metadata": {},
   "source": [
    "# Introduction / Business Problem"
   ]
  },
  {
   "cell_type": "markdown",
   "metadata": {},
   "source": [
    "One restaurant chain managed to grow it's business significantly over the last 5 years. They started with small restaurant in Venice, in 2 years opened 5 more restaurants in Italy and now they have restaurants in many other european countries - France, Spain, Germany and Austria."
   ]
  },
  {
   "cell_type": "markdown",
   "metadata": {},
   "source": [
    "Their main specialty is Italian cusine, but in every country they operate they add few local dishes in menu to attract clients with conservative tastes. The restaurant chain found it really profitable to serve business lunches and created different happy hours menu. And since healthy trends are becoming more popular every day, they also created special menu for those who care a lot about their health. This strategy turned out to be successful - lots of customers, high revenue and abmitious plans for the future development. "
   ]
  },
  {
   "cell_type": "markdown",
   "metadata": {},
   "source": [
    "Now they are considering entering new continent - North America. The management believes they should start with big, international city since there are higher chances that some people there might be familiar with the chain.\n",
    "\n",
    "Currently two options are considered - New York and Toronto."
   ]
  },
  {
   "cell_type": "markdown",
   "metadata": {},
   "source": [
    "Strategic planning team asked me to conduct research and provide a reasonable proposal of the best option. Along with the city choice, I should provide recommendations of optimal neighborhoods where to open the restaurant, considering the following:\n",
    "* **Competition** - estimation of how many similar places already exist nearby\n",
    "* **Number of Business Centers in the area** - since the restaurant hopes to attract business lunch customers as well\n",
    "* **Presence of Fitness Centers and parks nearby** - because restaurant wants to promote it's special healthy menu\n"
   ]
  }
 ],
 "metadata": {
  "kernelspec": {
   "display_name": "Python 3",
   "language": "python",
   "name": "python3"
  },
  "language_info": {
   "codemirror_mode": {
    "name": "ipython",
    "version": 3
   },
   "file_extension": ".py",
   "mimetype": "text/x-python",
   "name": "python",
   "nbconvert_exporter": "python",
   "pygments_lexer": "ipython3",
   "version": "3.7.4"
  }
 },
 "nbformat": 4,
 "nbformat_minor": 2
}
